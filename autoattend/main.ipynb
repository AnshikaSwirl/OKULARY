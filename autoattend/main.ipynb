{
 "cells": [
  {
   "cell_type": "code",
   "execution_count": 2,
   "metadata": {},
   "outputs": [],
   "source": [
    "import pandas as pd"
   ]
  },
  {
   "cell_type": "code",
   "execution_count": 5,
   "metadata": {},
   "outputs": [
    {
     "data": {
      "text/html": [
       "<div>\n",
       "<style scoped>\n",
       "    .dataframe tbody tr th:only-of-type {\n",
       "        vertical-align: middle;\n",
       "    }\n",
       "\n",
       "    .dataframe tbody tr th {\n",
       "        vertical-align: top;\n",
       "    }\n",
       "\n",
       "    .dataframe thead th {\n",
       "        text-align: right;\n",
       "    }\n",
       "</style>\n",
       "<table border=\"1\" class=\"dataframe\">\n",
       "  <thead>\n",
       "    <tr style=\"text-align: right;\">\n",
       "      <th></th>\n",
       "      <th>nrishit</th>\n",
       "      <th>05:45:39:PM</th>\n",
       "      <th>17-February-2024nrishit</th>\n",
       "      <th>05:45:40:PM</th>\n",
       "      <th>17-February-2024nrishit.1</th>\n",
       "      <th>05:45:41:PM</th>\n",
       "      <th>17-February-2024nrishit.2</th>\n",
       "      <th>05:45:41:PM.1</th>\n",
       "      <th>17-February-2024nrishit.3</th>\n",
       "      <th>05:45:42:PM</th>\n",
       "      <th>...</th>\n",
       "      <th>05:51:20:PM.11</th>\n",
       "      <th>17-February-2024nsakshi.388</th>\n",
       "      <th>05:51:20:PM.12</th>\n",
       "      <th>17-February-2024nanshika.282</th>\n",
       "      <th>05:51:20:PM.13</th>\n",
       "      <th>17-February-2024nsakshi.389</th>\n",
       "      <th>05:51:20:PM.14</th>\n",
       "      <th>17-February-2024nsakshi.390</th>\n",
       "      <th>05:51:20:PM.15</th>\n",
       "      <th>17-February-2024</th>\n",
       "    </tr>\n",
       "  </thead>\n",
       "  <tbody>\n",
       "  </tbody>\n",
       "</table>\n",
       "<p>0 rows × 1659 columns</p>\n",
       "</div>"
      ],
      "text/plain": [
       "Empty DataFrame\n",
       "Columns: [nrishit,  05:45:39:PM,  17-February-2024nrishit,  05:45:40:PM,  17-February-2024nrishit.1,  05:45:41:PM,  17-February-2024nrishit.2,  05:45:41:PM.1,  17-February-2024nrishit.3,  05:45:42:PM,  17-February-2024nrishit.4,  05:45:42:PM.1,  17-February-2024nrishit.5,  05:45:43:PM,  17-February-2024nrishit.6,  05:45:44:PM,  17-February-2024nrishit.7,  05:45:44:PM.1,  17-February-2024nsakshi,  05:45:48:PM,  17-February-2024nsakshi.1,  05:45:49:PM,  17-February-2024nsakshi.2,  05:45:49:PM.1,  17-February-2024nsakshi.3,  05:45:49:PM.2,  17-February-2024nsakshi.4,  05:45:50:PM,  17-February-2024nsakshi.5,  05:45:51:PM,  17-February-2024nsakshi.6,  05:45:51:PM.1,  17-February-2024nsakshi.7,  05:45:52:PM,  17-February-2024nsakshi.8,  05:45:53:PM,  17-February-2024nsakshi.9,  05:45:53:PM.1,  17-February-2024nsakshi.10,  05:45:54:PM,  17-February-2024nsakshi.11,  05:45:55:PM,  17-February-2024nrishit.8,  05:45:55:PM.1,  17-February-2024nrishit.9,  05:45:55:PM.2,  17-February-2024nrishit.10,  05:45:56:PM,  17-February-2024nrishit.11,  05:45:57:PM,  17-February-2024nrishit.12,  05:45:57:PM.1,  17-February-2024nrishit.13,  05:45:58:PM,  17-February-2024nrishit.14,  05:45:59:PM,  17-February-2024nrishit.15,  05:45:59:PM.1,  17-February-2024nrishit.16,  05:46:00:PM,  17-February-2024nrishit.17,  05:46:01:PM,  17-February-2024nrishit.18,  05:46:03:PM,  17-February-2024nrishit.19,  05:46:03:PM.1,  17-February-2024nrishit.20,  05:46:05:PM,  17-February-2024nsakshi.12,  05:46:05:PM.1,  17-February-2024nrishit.21,  05:46:05:PM.2,  17-February-2024nrishit.22,  05:46:08:PM,  17-February-2024nrishit.23,  05:46:09:PM,  17-February-2024nrishit.24,  05:50:27:PM,  17-February-2024nrishit.25,  05:50:27:PM.1,  17-February-2024nsakshi.13,  05:50:27:PM.2,  17-February-2024nrishit.26,  05:50:27:PM.3,  17-February-2024nrishit.27,  05:50:27:PM.4,  17-February-2024nsakshi.14,  05:50:27:PM.5,  17-February-2024nsakshi.15,  05:50:27:PM.6,  17-February-2024nrishit.28,  05:50:27:PM.7,  17-February-2024nsakshi.16,  05:50:27:PM.8,  17-February-2024nrishit.29,  05:50:27:PM.9,  17-February-2024nrishit.30,  05:50:27:PM.10,  17-February-2024nsakshi.17,  05:50:27:PM.11, ...]\n",
       "Index: []\n",
       "\n",
       "[0 rows x 1659 columns]"
      ]
     },
     "execution_count": 5,
     "metadata": {},
     "output_type": "execute_result"
    }
   ],
   "source": [
    "df = pd.read_csv('Attendance.csv')\n",
    "df.head()"
   ]
  }
 ],
 "metadata": {
  "kernelspec": {
   "display_name": "Python 3",
   "language": "python",
   "name": "python3"
  },
  "language_info": {
   "codemirror_mode": {
    "name": "ipython",
    "version": 3
   },
   "file_extension": ".py",
   "mimetype": "text/x-python",
   "name": "python",
   "nbconvert_exporter": "python",
   "pygments_lexer": "ipython3",
   "version": "3.9.18"
  }
 },
 "nbformat": 4,
 "nbformat_minor": 2
}
